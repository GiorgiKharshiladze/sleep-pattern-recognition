{
 "cells": [
  {
   "cell_type": "code",
   "execution_count": 3,
   "metadata": {},
   "outputs": [
    {
     "name": "stderr",
     "output_type": "stream",
     "text": [
      "[12/Mar/2019:19:07:24] ENGINE Listening for SIGTERM.\n",
      "[12/Mar/2019:19:07:24] ENGINE Listening for SIGHUP.\n",
      "[12/Mar/2019:19:07:24] ENGINE Listening for SIGUSR1.\n",
      "[12/Mar/2019:19:07:24] ENGINE Bus STARTING\n",
      "CherryPy Checker:\n",
      "The Application mounted at '' has an empty config.\n",
      "\n",
      "[12/Mar/2019:19:07:24] ENGINE Started monitor thread 'Autoreloader'.\n",
      "[12/Mar/2019:19:07:24] ENGINE Serving on http://127.0.0.1:8080\n",
      "[12/Mar/2019:19:07:24] ENGINE Bus STARTED\n"
     ]
    },
    {
     "name": "stdout",
     "output_type": "stream",
     "text": [
      "127.0.0.1 - - [12/Mar/2019:19:07:26] \"GET /?code=704010de8ac3ac2dec9cf6b3d3cf86ff8424c2a5&state=cl9X5k3PVzYUS06LpvG9p9S6LTaxef HTTP/1.1\" 200 122 \"\" \"Mozilla/5.0 (Macintosh; Intel Mac OS X 10_14_3) AppleWebKit/537.36 (KHTML, like Gecko) Chrome/72.0.3626.121 Safari/537.36\"\n"
     ]
    },
    {
     "name": "stderr",
     "output_type": "stream",
     "text": [
      "[12/Mar/2019:19:07:27] ENGINE Bus STOPPING\n",
      "[12/Mar/2019:19:07:32] ENGINE HTTP Server cherrypy._cpwsgi_server.CPWSGIServer(('127.0.0.1', 8080)) shut down\n",
      "[12/Mar/2019:19:07:32] ENGINE Stopped thread 'Autoreloader'.\n",
      "[12/Mar/2019:19:07:32] ENGINE Bus STOPPED\n",
      "[12/Mar/2019:19:07:32] ENGINE Bus EXITING\n",
      "[12/Mar/2019:19:07:32] ENGINE Bus EXITED\n",
      "[12/Mar/2019:19:07:32] ENGINE Waiting for child threads to terminate...\n"
     ]
    }
   ],
   "source": [
    "import json\n",
    "from fitbit_api import fitbit, gather_keys_oauth2 as Oauth2\n",
    "\n",
    "keys = json.loads(open('keys.json').read())\n",
    "\n",
    "CLIENT_ID = keys['CLIENT_ID']\n",
    "CLIENT_SECRET = keys['CLIENT_SECRET']\n",
    "server = Oauth2.OAuth2Server(CLIENT_ID, CLIENT_SECRET)\n",
    "server.browser_authorize()\n",
    "\n",
    "ACCESS_TOKEN = str(server.fitbit.client.session.token['access_token'])\n",
    "REFRESH_TOKEN = str(server.fitbit.client.session.token['refresh_token'])\n"
   ]
  },
  {
   "cell_type": "code",
   "execution_count": 4,
   "metadata": {},
   "outputs": [],
   "source": [
    "client = fitbit.Fitbit(CLIENT_ID, CLIENT_SECRET, oauth2=True, access_token=ACCESS_TOKEN, refresh_token=REFRESH_TOKEN)\n"
   ]
  },
  {
   "cell_type": "code",
   "execution_count": 5,
   "metadata": {},
   "outputs": [],
   "source": [
    "import pandas as pd\n",
    "from datetime import datetime, timedelta\n",
    "\n",
    "def datetime_str_to_object(fitbit_str):\n",
    "    \"\"\"Helper function to convert fitbit datetime str into python datetime object\"\"\"\n",
    "    return datetime.strptime(fitbit_str, \"%Y-%m-%dT%H:%M:%S.000\")\n",
    "\n",
    "def normalize_fall_asleep(df, date):\n",
    "    \"\"\"Helper function to reset index of fall asleep times into duration of sleep\"\"\"\n",
    "    # instead of 12:07 it will be 0 minutes from falling asleep\n",
    "    df = df.reset_index() # remove time index\n",
    "    # df['time'] = date+\"T\"+df['time']+\".000\" # create datetime str format\n",
    "    # df['time'] = df['time'].apply(lambda x: datetime_str_to_object(x)) # concert str times into datetime objects\n",
    "    # df['time'] = df['time'] - df['time'][0] # subtract start time from the actual time\n",
    "    # df['time'] = df['time'].apply(lambda x: int(x.total_seconds()//60)) # convert into minutes\n",
    "    # NO NEED FOR ALL THE CONVERSIONS SINCE reset_index GIVES THE VALUES OF THE MINUTES PASSED\n",
    "    df['time'] = df.index # minutes after falling asleep\n",
    "    df = df.set_index('time')\n",
    "    return df\n",
    "\n",
    "def get_heart_rate(date): # date is a string of format 'yyyy-mm-dd'\n",
    "    \"\"\"Returns the heart rate data(with index of time) based on the given date\"\"\"\n",
    "    values, times = [], []\n",
    "    heart_rate_json = client.intraday_time_series(\"activities/heart\", base_date=date, detail_level=\"1min\")\n",
    "    \n",
    "    for item in heart_rate_json['activities-heart-intraday']['dataset']:\n",
    "        values.append(item['value'])\n",
    "        times.append(item['time'])\n",
    "\n",
    "    return pd.DataFrame({'heart_rate':values,'time':times}).set_index('time')\n",
    "\n",
    "def get_sleep_data(date): # date is a string of format 'yyyy-mm-dd'\n",
    "    \"\"\"Returns the sleep data dictionary of {start_time, end_time, awake_times}\"\"\"\n",
    "    awake_times = []\n",
    "    sleep = client.sleep(date)\n",
    "    \n",
    "    for item in sleep['sleep'][0]['minuteData']:\n",
    "        if item['value']=='2':\n",
    "            awake_times.append(item['dateTime'])\n",
    "    \n",
    "    start_time = datetime_str_to_object(sleep['sleep'][0]['startTime']).strftime(\"%H:%M:%S\")\n",
    "    end_time = datetime_str_to_object(sleep['sleep'][0]['endTime']).strftime(\"%H:%M:%S\")\n",
    "    \n",
    "    return {\"start_time\":start_time, \"end_time\": end_time, \"awake_times\":awake_times}\n",
    "\n",
    "def get_sleep_heart_rate(date): # date is a string of format 'yyyy-mm-dd'\n",
    "    \"\"\"Returns the pandas df of {minutes_asleep, heart_rate, is_awake(1 or 0)}\"\"\"\n",
    "    sleep_dict = get_sleep_data(date) # get sleep dictionary of start,end and awake times\n",
    "    sleep_df = get_heart_rate(date).loc[sleep_dict['start_time']:sleep_dict['end_time']] # select only sleep heart_rates\n",
    "    sleep_df['is_awake'] = 0 # is_awake value 0 by default\n",
    "    sleep_df['is_awake'].loc[sleep_dict['awake_times']] = 1 # add is_awake values\n",
    "    sleep_df = normalize_fall_asleep(sleep_df, date)\n",
    "    \n",
    "    return sleep_df"
   ]
  },
  {
   "cell_type": "code",
   "execution_count": 24,
   "metadata": {},
   "outputs": [
    {
     "data": {
      "image/png": "[encoded data removed]",
      "text/plain": [
       "<Figure size 432x288 with 1 Axes>"
      ]
     },
     "metadata": {
      "needs_background": "light"
     },
     "output_type": "display_data"
    }
   ],
   "source": [
    "import matplotlib.pyplot as plt\n",
    "\n",
    "date = \"2019-03-12\"\n",
    "\n",
    "df = get_sleep_heart_rate(date) # .loc[425:] for more specific times\n",
    "\n",
    "plt.ylabel('heart rate')\n",
    "plt.xlabel('minutes asleep')\n",
    "plt.plot(list(df.index),df['heart_rate'])\n",
    "\n",
    "# mark awakes with red dot\n",
    "plt.scatter(list(df.loc[df['is_awake']==1].index),df['heart_rate'].loc[df['is_awake']==1], c='r')\n",
    "\n",
    "plt.show()"
   ]
  },
  {
   "cell_type": "code",
   "execution_count": null,
   "metadata": {},
   "outputs": [],
   "source": []
  }
 ],
 "metadata": {
  "kernelspec": {
   "display_name": "Python 3",
   "language": "python",
   "name": "python3"
  },
  "language_info": {
   "codemirror_mode": {
    "name": "ipython",
    "version": 3
   },
   "file_extension": ".py",
   "mimetype": "text/x-python",
   "name": "python",
   "nbconvert_exporter": "python",
   "pygments_lexer": "ipython3",
   "version": "3.7.2"
  }
 },
 "nbformat": 4,
 "nbformat_minor": 2
}
